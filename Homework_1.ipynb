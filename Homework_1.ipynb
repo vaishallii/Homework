{
 "cells": [
  {
   "cell_type": "markdown",
   "id": "7e66620b-c89e-4904-a210-97fd3905edda",
   "metadata": {},
   "source": [
    "# Homework 1\n"
   ]
  },
  {
   "cell_type": "markdown",
   "id": "8fc0470d-bda1-47fc-9999-d79003479306",
   "metadata": {},
   "source": [
    "1. Write a program that takes a word as an input and print the number of vowels in the word.\n",
    "2. Iterate through the following list of animals and print each one in all caps.\n",
    "\n",
    "  animals=['tiger', 'elephant', 'monkey', 'zebra', 'panther']\n",
    "\n",
    "3. Write a program that iterates from 1 to 20, printing each number and whether it's odd or even.\n",
    "4. Write a program to check if a string is a palindrome or not.\n",
    "5. Write a function sum_of_integers(a, b) that takes two integers as input from the user and returns their sum. (optional)"
   ]
  },
  {
   "cell_type": "markdown",
   "id": "a42888c0-27cf-4519-950e-9e2e3276220c",
   "metadata": {},
   "source": [
    "1. Write a program that takes a word as an input and print the number of vowels in the word."
   ]
  },
  {
   "cell_type": "code",
   "execution_count": 4,
   "id": "ed73af3f-ffc3-4f94-80b4-ccf4c9d75356",
   "metadata": {},
   "outputs": [
    {
     "name": "stdin",
     "output_type": "stream",
     "text": [
      "Enter any word: VAIShasli\n"
     ]
    },
    {
     "name": "stdout",
     "output_type": "stream",
     "text": [
      "# of vowels in vaishasli: 4\n"
     ]
    }
   ],
   "source": [
    "# 1 \n",
    "word = input(\"Enter any word:\").lower()\n",
    "vowels = \"aeiou\"\n",
    "count = 0 \n",
    "\n",
    "for x in word:\n",
    "    if x in vowels: \n",
    "        count += 1 \n",
    "\n",
    "print(\"# of vowels in \" + word + \":\", count)"
   ]
  },
  {
   "cell_type": "markdown",
   "id": "05dc2663-f626-4fbb-824c-c855ec990f32",
   "metadata": {},
   "source": [
    "2. Iterate through the following list of animals and print each one in all caps.\n",
    "animals=['tiger', 'elephant', 'monkey', 'zebra', 'panther']"
   ]
  },
  {
   "cell_type": "code",
   "execution_count": 6,
   "id": "f7b9d854-0be8-40e5-b3cf-23535da957c9",
   "metadata": {},
   "outputs": [
    {
     "name": "stdout",
     "output_type": "stream",
     "text": [
      "TIGER\n",
      "ELEPHANT\n",
      "MONKEY\n",
      "ZEBRA\n",
      "PANTHER\n"
     ]
    }
   ],
   "source": [
    "# 2 \n",
    "\n",
    "animals=[\"tiger\", \"elephant\", \"monkey\", \"zebra\", \"panther\"]\n",
    "\n",
    "for x in animals: \n",
    "    print(x.upper())"
   ]
  },
  {
   "cell_type": "markdown",
   "id": "de09d064-ab78-4b64-ba97-ad72c0317d4c",
   "metadata": {},
   "source": [
    "3. Write a program that iterates from 1 to 20, printing each number and whether it's odd or even."
   ]
  },
  {
   "cell_type": "code",
   "execution_count": 11,
   "id": "36a8729b-13ac-4923-85b0-3508e497732f",
   "metadata": {},
   "outputs": [
    {
     "name": "stdout",
     "output_type": "stream",
     "text": [
      "1: odd\n",
      "2: even\n",
      "3: odd\n",
      "4: even\n",
      "5: odd\n",
      "6: even\n",
      "7: odd\n",
      "8: even\n",
      "9: odd\n",
      "10: even\n",
      "11: odd\n",
      "12: even\n",
      "13: odd\n",
      "14: even\n",
      "15: odd\n",
      "16: even\n",
      "17: odd\n",
      "18: even\n",
      "19: odd\n",
      "20: even\n"
     ]
    }
   ],
   "source": [
    "#3\n",
    "\n",
    "for x in range(1, 21):\n",
    "    if x % 2 == 0:\n",
    "        print(f\"{x}: even\")\n",
    "    else:\n",
    "        print(f\"{x}: odd\")"
   ]
  },
  {
   "cell_type": "markdown",
   "id": "03540716-8b52-4208-8e19-9fe4563a934c",
   "metadata": {},
   "source": [
    "4. Write a program to check if a string is a palindrome or not.\n"
   ]
  },
  {
   "cell_type": "code",
   "execution_count": 13,
   "id": "263f3cf6-bbcd-4911-8659-8f46fcbeca9d",
   "metadata": {},
   "outputs": [
    {
     "name": "stdin",
     "output_type": "stream",
     "text": [
      "Enter any string: RACECAR\n"
     ]
    },
    {
     "name": "stdout",
     "output_type": "stream",
     "text": [
      "This string is a palindrome\n"
     ]
    }
   ],
   "source": [
    "#4\n",
    "\n",
    "string = input(\"Enter any string:\").lower()\n",
    "\n",
    "if string == string[::-1]:\n",
    "    print(\"This string is a palindrome\") \n",
    "else:\n",
    "    print(\"This string isn't a palindrome\") "
   ]
  },
  {
   "cell_type": "code",
   "execution_count": null,
   "id": "ac94110c-3543-4e28-a84b-15b7a01f635e",
   "metadata": {},
   "outputs": [],
   "source": []
  },
  {
   "cell_type": "code",
   "execution_count": 15,
   "id": "d31f16bd-0b81-46dd-8363-8daaaf115289",
   "metadata": {},
   "outputs": [
    {
     "name": "stdin",
     "output_type": "stream",
     "text": [
      "Enter the 1st integer: 18912389271348921\n",
      "Enter the 2nd integer: 2\n"
     ]
    },
    {
     "name": "stdout",
     "output_type": "stream",
     "text": [
      "The sum is: 18912389271348923\n"
     ]
    }
   ],
   "source": [
    "#5 \n",
    "\n",
    "def sum_of_integers(a,b):\n",
    "    return a + b\n",
    "\n",
    "num_1 = int(input(\"Enter the 1st integer:\"))\n",
    "num_2 = int(input(\"Enter the 2nd integer:\"))\n",
    "\n",
    "print(\"The sum is:\", sum_of_integers(num_1, num_2))"
   ]
  },
  {
   "cell_type": "code",
   "execution_count": null,
   "id": "f82703f1-679b-47d1-9b1f-97ddb0cb0452",
   "metadata": {},
   "outputs": [],
   "source": []
  }
 ],
 "metadata": {
  "kernelspec": {
   "display_name": "anaconda-ai-2024.04-py310",
   "language": "python",
   "name": "conda-env-anaconda-ai-2024.04-py310-py"
  },
  "language_info": {
   "codemirror_mode": {
    "name": "ipython",
    "version": 3
   },
   "file_extension": ".py",
   "mimetype": "text/x-python",
   "name": "python",
   "nbconvert_exporter": "python",
   "pygments_lexer": "ipython3",
   "version": "3.10.13"
  }
 },
 "nbformat": 4,
 "nbformat_minor": 5
}
